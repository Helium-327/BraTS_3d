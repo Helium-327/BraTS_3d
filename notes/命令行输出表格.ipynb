{
 "cells": [
  {
   "cell_type": "markdown",
   "metadata": {},
   "source": [
    "# 使用tabulate 在命令行输出表格"
   ]
  },
  {
   "cell_type": "code",
   "execution_count": 2,
   "metadata": {},
   "outputs": [],
   "source": [
    "from tabulate import tabulate\n",
    "import numpy as np"
   ]
  },
  {
   "cell_type": "code",
   "execution_count": 3,
   "metadata": {},
   "outputs": [
    {
     "name": "stdout",
     "output_type": "stream",
     "text": [
      "Day      Temp    Rain\n",
      "-----  ------  ------\n",
      "Sun        31     199\n",
      "Mon        28     189\n",
      "Tue        29     167\n",
      "Wed        30     208\n",
      "Thu        29     187\n",
      "Fri        30     178\n",
      "Sat        29     198\n"
     ]
    }
   ],
   "source": [
    "\n",
    "\n",
    "# 示例数据：元组\n",
    "data = [\n",
    "    (\"Sun\", 31, 199),\n",
    "    (\"Mon\", 28, 189),\n",
    "    (\"Tue\", 29, 167),\n",
    "    (\"Wed\", 30, 208),\n",
    "    (\"Thu\", 29, 187),\n",
    "    (\"Fri\", 30, 178),\n",
    "    (\"Sat\", 29, 198),\n",
    "]\n",
    "\n",
    "# 输出表格\n",
    "print(tabulate(data, headers=[\"Day\", \"Temp\", \"Rain\"]))\n",
    "\n",
    "\n"
   ]
  },
  {
   "cell_type": "code",
   "execution_count": 4,
   "metadata": {},
   "outputs": [
    {
     "name": "stdout",
     "output_type": "stream",
     "text": [
      "Day      Temp    Rain\n",
      "-----  ------  ------\n",
      "Sun        31     199\n",
      "Mon        28     189\n",
      "Tue        29     167\n",
      "Wed        30     208\n",
      "Thu        29     187\n",
      "Fri        30     178\n",
      "Sat        29     198\n"
     ]
    }
   ],
   "source": [
    "# 示例数据：NumPy数组\n",
    "data = np.array([\n",
    "    [\"Sun\", 31, 199],\n",
    "    [\"Mon\", 28, 189],\n",
    "    [\"Tue\", 29, 167],\n",
    "    [\"Wed\", 30, 208],\n",
    "    [\"Thu\", 29, 187],\n",
    "    [\"Fri\", 30, 178],\n",
    "    [\"Sat\", 29, 198],\n",
    "])\n",
    "\n",
    "# 输出表格\n",
    "print(tabulate(data, headers=[\"Day\", \"Temp\", \"Rain\"]))\n",
    "\n"
   ]
  },
  {
   "cell_type": "code",
   "execution_count": 5,
   "metadata": {},
   "outputs": [
    {
     "name": "stdout",
     "output_type": "stream",
     "text": [
      "Day      Temp    Rain\n",
      "-----  ------  ------\n",
      "Sun        31     199\n",
      "Mon        28     189\n",
      "Tue        29     167\n",
      "Wed        30     208\n",
      "Thu        29     187\n",
      "Fri        30     178\n",
      "Sat        29     198\n"
     ]
    }
   ],
   "source": [
    "# 示例数据: 列表\n",
    "data = [\n",
    "    [\"Sun\", 31, 199],\n",
    "    [\"Mon\", 28, 189],\n",
    "    [\"Tue\", 29, 167],\n",
    "    [\"Wed\", 30, 208],\n",
    "    [\"Thu\", 29, 187],\n",
    "    [\"Fri\", 30, 178],\n",
    "    [\"Sat\", 29, 198],\n",
    "]\n",
    "\n",
    "# 输出表格\n",
    "print(tabulate(data, headers=[\"Day\", \"Temp\", \"Rain\"]))"
   ]
  },
  {
   "cell_type": "code",
   "execution_count": 6,
   "metadata": {},
   "outputs": [
    {
     "name": "stdout",
     "output_type": "stream",
     "text": [
      "Day      Temp    Rain\n",
      "-----  ------  ------\n",
      "Sun        31     199\n",
      "Mon        28     189\n",
      "Tue        29     167\n",
      "Wed        30     208\n",
      "Thu        29     187\n",
      "Fri        30     178\n",
      "Sat        29     198\n"
     ]
    }
   ],
   "source": [
    "\n",
    "# 示例数据：字典\n",
    "data = [\n",
    "    {\"Day\": \"Sun\", \"Temp\": 31, \"Rain\": 199},\n",
    "    {\"Day\": \"Mon\", \"Temp\": 28, \"Rain\": 189},\n",
    "    {\"Day\": \"Tue\", \"Temp\": 29, \"Rain\": 167},\n",
    "    {\"Day\": \"Wed\", \"Temp\": 30, \"Rain\": 208},\n",
    "    {\"Day\": \"Thu\", \"Temp\": 29, \"Rain\": 187},\n",
    "    {\"Day\": \"Fri\", \"Temp\": 30, \"Rain\": 178},\n",
    "    {\"Day\": \"Sat\", \"Temp\": 29, \"Rain\": 198},\n",
    "]\n",
    "\n",
    "# 输出表格\n",
    "print(tabulate(data, headers=\"keys\"))"
   ]
  },
  {
   "cell_type": "code",
   "execution_count": null,
   "metadata": {},
   "outputs": [],
   "source": []
  }
 ],
 "metadata": {
  "kernelspec": {
   "display_name": "torch",
   "language": "python",
   "name": "python3"
  },
  "language_info": {
   "codemirror_mode": {
    "name": "ipython",
    "version": 3
   },
   "file_extension": ".py",
   "mimetype": "text/x-python",
   "name": "python",
   "nbconvert_exporter": "python",
   "pygments_lexer": "ipython3",
   "version": "3.10.14"
  }
 },
 "nbformat": 4,
 "nbformat_minor": 2
}
