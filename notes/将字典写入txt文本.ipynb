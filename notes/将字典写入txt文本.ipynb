{
 "cells": [
  {
   "cell_type": "code",
   "execution_count": 2,
   "metadata": {},
   "outputs": [],
   "source": [
    "import json\n",
    "\n",
    "\n",
    "data = {'metric_values': [0.5235157012939453],\n",
    "        'metric_values_tc': [0.5652443766593933],\n",
    "        'metric_values_wt': [0.7906294465065002],\n",
    "        'metric_values_et': [0.21467316150665283],\n",
    "        'train_epoch_loss_values': [0.43168720602989197]}\n",
    "\n",
    "data_str = json.dumps(data, indent=2)\n",
    "\n",
    "data_lines = data_str.split('\\n')\n",
    "\n",
    "\n",
    "with open('./data_lines.txt', 'w') as f:\n",
    "    for line in data_lines:\n",
    "        f.write(line + '\\n')"
   ]
  },
  {
   "cell_type": "code",
   "execution_count": null,
   "metadata": {},
   "outputs": [],
   "source": []
  }
 ],
 "metadata": {
  "kernelspec": {
   "display_name": "torch",
   "language": "python",
   "name": "python3"
  },
  "language_info": {
   "codemirror_mode": {
    "name": "ipython",
    "version": 3
   },
   "file_extension": ".py",
   "mimetype": "text/x-python",
   "name": "python",
   "nbconvert_exporter": "python",
   "pygments_lexer": "ipython3",
   "version": "3.10.14"
  }
 },
 "nbformat": 4,
 "nbformat_minor": 2
}
